{
 "cells": [
  {
   "cell_type": "code",
   "execution_count": null,
   "id": "ac751bfe-8a15-41c2-9edb-16dba1a54c40",
   "metadata": {},
   "outputs": [],
   "source": [
    "import itkpocus.interson\n",
    "import itk\n",
    "import skvideo.io\n",
    "from pathlib import Path\n",
    "from ipywidgets import interact, fixed\n",
    "import matplotlib.pyplot as plt"
   ]
  },
  {
   "cell_type": "code",
   "execution_count": null,
   "id": "5ceab498-67a5-4a02-b57a-e8fc53fc8b4a",
   "metadata": {},
   "outputs": [],
   "source": [
    "# The root data directory\n",
    "DATA_DIR = Path(\"../../data/unskilled_operator-20220421_sonivate_interson_fix\")\n",
    "\n",
    "RAW_DIR = DATA_DIR / \"raw\"\n",
    "RAW_SONIVATE_DIR = RAW_DIR / \"sonivate\"\n",
    "RAW_INTERSON_DIR = RAW_DIR / \"interson-spl01\"\n",
    "\n",
    "OUTPUT_SONIVATE_DIR = RAW_SONIVATE_DIR\n",
    "OUTPUT_INTERSON_DIR = RAW_INTERSON_DIR"
   ]
  },
  {
   "cell_type": "code",
   "execution_count": null,
   "id": "0ee11849-2cdf-451c-9d2c-20177591a5a1",
   "metadata": {},
   "outputs": [],
   "source": [
    "RAW_DIR.exists()"
   ]
  },
  {
   "cell_type": "code",
   "execution_count": null,
   "id": "c1f38b48-2781-4557-936f-d391d7470293",
   "metadata": {},
   "outputs": [],
   "source": [
    "sonivate_paths = list(RAW_SONIVATE_DIR.glob(\"**/*.mha\"))\n",
    "interson_paths = list(RAW_INTERSON_DIR.glob(\"**/*.cine\"))\n",
    "all_paths = sonivate_paths + interson_paths\n",
    "print(all_paths[:5])"
   ]
  },
  {
   "cell_type": "code",
   "execution_count": null,
   "id": "2d0915d6-d1ff-40cc-97a0-235f6cbd1826",
   "metadata": {},
   "outputs": [],
   "source": [
    "# Assumes all interson are .cine and all sonivate are .mha\n",
    "for fp in all_paths:\n",
    "    print(\"starting\", str(fp))\n",
    "    \n",
    "    is_sonivate = fp.suffix == \".mha\"\n",
    "\n",
    "    parent_dir_name = fp.parents[0].name # a digit 1-9\n",
    "    result_file_name = fp.stem + \".mp4\"\n",
    "    if is_sonivate:\n",
    "        output_dir = OUTPUT_SONIVATE_DIR\n",
    "    else:\n",
    "        output_dir = OUTPUT_INTERSON_DIR\n",
    "\n",
    "    output_dir /= parent_dir_name\n",
    "    output_dir.mkdir(exist_ok=True, parents=True)\n",
    "\n",
    "    if is_sonivate:\n",
    "        im = itk.imread(str(fp))\n",
    "    else:\n",
    "        _, download_settings, _, _, cine_buffer, _, _ = itkpocus.interson._load_video(fp)\n",
    "        im = itkpocus.interson._convert_to_image(cine_buffer, download_settings.number_of_cine_frames, download_settings.probe_settings.depth, download_settings.frame_scan_rate)\n",
    "\n",
    "    arr = itk.array_from_image(im)\n",
    "    skvideo.io.vwrite(str(output_dir / result_file_name), arr)"
   ]
  },
  {
   "cell_type": "code",
   "execution_count": null,
   "id": "8d036045-9e77-45cf-92fa-432089514a8a",
   "metadata": {},
   "outputs": [],
   "source": [
    "# Note we go up to 1000 frames to give enough room. Sliding too far\n",
    "# gives out of bounds error\n",
    "def display_arrs_side_by_side(arr1=None, arr2=None, i=(0, 1000, 1)):\n",
    "    _, axs = plt.subplots(1, 2)\n",
    "    axs[0].imshow(arr1[i, :, :])\n",
    "    axs[1].imshow(arr2[i, :, :])"
   ]
  },
  {
   "cell_type": "code",
   "execution_count": null,
   "id": "33861dbd-c3b7-41b5-8e3f-149f5196eb30",
   "metadata": {},
   "outputs": [],
   "source": [
    "# For checking the sonivate\n",
    "sp = sonivate_paths[12]\n",
    "itk_im = itk.imread(str(sp))\n",
    "orig_arr = itk.array_from_image(itk_im)\n",
    "\n",
    "print(sp)\n",
    "\n",
    "part_num = sp.parents[0].name # a digit 1-9\n",
    "result_file_name = sp.stem + \".mp4\"\n",
    "path_to_mp4 = OUTPUT_SONIVATE_DIR / part_num / result_file_name\n",
    "converted_arr = skvideo.io.vread(path_to_mp4)\n",
    "\n",
    "print(orig_arr.shape, converted_arr.shape)\n",
    "\n",
    "interact(display_arrs_side_by_side, arr1=fixed(orig_arr), arr2=fixed(converted_arr));"
   ]
  },
  {
   "cell_type": "code",
   "execution_count": null,
   "id": "931e2eb6-d56b-4792-b989-b67915c13a1b",
   "metadata": {},
   "outputs": [],
   "source": [
    "# For checking the interson\n",
    "ip = interson_paths[13]\n",
    "_, download_settings, _, _, cine_buffer, _, _ = itkpocus.interson._load_video(ip)\n",
    "im = itkpocus.interson._convert_to_image(cine_buffer, download_settings.number_of_cine_frames, download_settings.probe_settings.depth, download_settings.frame_scan_rate)\n",
    "orig_arr = itk.array_from_image(im)\n",
    "print(ip)\n",
    "\n",
    "part_num = ip.parents[0].name # a digit 1-9\n",
    "result_file_name = ip.stem + \".mp4\"\n",
    "path_to_mp4 = OUTPUT_INTERSON_DIR / part_num / result_file_name\n",
    "converted_arr = skvideo.io.vread(path_to_mp4)\n",
    "\n",
    "print(orig_arr.shape, converted_arr.shape)\n",
    "\n",
    "interact(display_arrs_side_by_side, arr1=fixed(orig_arr), arr2=fixed(converted_arr));"
   ]
  },
  {
   "cell_type": "code",
   "execution_count": null,
   "id": "99ef911e-0324-4566-b9ad-4adb7aa1e01c",
   "metadata": {},
   "outputs": [],
   "source": []
  }
 ],
 "metadata": {
  "kernelspec": {
   "display_name": "tbi_env",
   "language": "python",
   "name": "tbi_env"
  },
  "language_info": {
   "codemirror_mode": {
    "name": "ipython",
    "version": 3
   },
   "file_extension": ".py",
   "mimetype": "text/x-python",
   "name": "python",
   "nbconvert_exporter": "python",
   "pygments_lexer": "ipython3",
   "version": "3.8.13"
  }
 },
 "nbformat": 4,
 "nbformat_minor": 5
}
