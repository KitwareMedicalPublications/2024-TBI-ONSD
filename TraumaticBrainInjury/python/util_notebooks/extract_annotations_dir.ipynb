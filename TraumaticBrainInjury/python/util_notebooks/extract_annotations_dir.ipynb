{
 "cells": [
  {
   "cell_type": "code",
   "execution_count": null,
   "id": "95007684-1db2-448a-aaf2-96a06515c46a",
   "metadata": {},
   "outputs": [],
   "source": [
    "'''\n",
    "Helper notebook to extract all annotations in a directory (or multiple directories)\n",
    "itkpocus extracts annotations one at a time\n",
    "'''\n",
    "\n",
    "\n",
    "import tbitk.data_manager as dm\n",
    "from pathlib import Path\n",
    "from datetime import datetime"
   ]
  },
  {
   "cell_type": "code",
   "execution_count": null,
   "id": "bdfb4abe-7357-405f-91b0-394fec14ed8e",
   "metadata": {},
   "outputs": [],
   "source": [
    "# This is the only cell that should ever change (by the user)\n",
    "\n",
    "BASE_DIR = Path(\"../../data/HRPO-E01240.1a/\")\n",
    "CVAT_RAW_DIR = BASE_DIR / \"cvat_raw\" / \"ONUS-002HV/\"\n",
    "PREPROCESSED_DIR = BASE_DIR / \"preprocessed\""
   ]
  },
  {
   "cell_type": "code",
   "execution_count": null,
   "id": "31b0599c-0df7-49b8-b199-cd8a22d2ec9e",
   "metadata": {},
   "outputs": [],
   "source": [
    "def timed_print(*args):\n",
    "    print(f\"{datetime.now()}:\", *args)"
   ]
  },
  {
   "cell_type": "code",
   "execution_count": null,
   "id": "75514f35-9a2a-4d60-a492-ec4008389acc",
   "metadata": {},
   "outputs": [],
   "source": [
    "assert BASE_DIR.exists()\n",
    "assert CVAT_RAW_DIR.exists()\n",
    "assert PREPROCESSED_DIR.exists()\n",
    "\n",
    "failures = []\n",
    "for fp in CVAT_RAW_DIR.glob(\"**/*.zip\"):\n",
    "    timed_print(\"Starting\", str(fp))\n",
    "    try:\n",
    "        dm.process_annotation(str(fp), str(PREPROCESSED_DIR))\n",
    "    except Exception as e:\n",
    "        timed_print(f\"File {str(fp)} raised exception {e}. Skipping, added to failures list.\")\n",
    "        failures.append(fp)\n",
    "    else:\n",
    "        timed_print(f\"{fp} processed successfully\")\n",
    "    print(\"\\n\")\n",
    "    "
   ]
  },
  {
   "cell_type": "code",
   "execution_count": null,
   "id": "80ff925b-238c-42e0-8f0f-0e6d48e3264f",
   "metadata": {},
   "outputs": [],
   "source": [
    "print(\"failures:\", \"\\n\".join([str(f) for f in failures]))"
   ]
  }
 ],
 "metadata": {
  "kernelspec": {
   "display_name": "tbi_env",
   "language": "python",
   "name": "tbi_env"
  },
  "language_info": {
   "codemirror_mode": {
    "name": "ipython",
    "version": 3
   },
   "file_extension": ".py",
   "mimetype": "text/x-python",
   "name": "python",
   "nbconvert_exporter": "python",
   "pygments_lexer": "ipython3",
   "version": "3.8.13"
  }
 },
 "nbformat": 4,
 "nbformat_minor": 5
}
