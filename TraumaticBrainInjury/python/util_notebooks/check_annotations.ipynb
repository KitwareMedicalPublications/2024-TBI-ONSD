{
 "cells": [
  {
   "cell_type": "code",
   "execution_count": null,
   "id": "b964fb42-0832-4b63-842e-1373a90acbd0",
   "metadata": {},
   "outputs": [],
   "source": [
    "import itk\n",
    "import matplotlib.pyplot as plt\n",
    "import tbitk.data_manager as dm\n",
    "from ipywidgets import interact, fixed, widgets\n",
    "from pathlib import Path"
   ]
  },
  {
   "cell_type": "code",
   "execution_count": null,
   "id": "e2265a93-926f-472e-8801-6b50e590d6fa",
   "metadata": {},
   "outputs": [],
   "source": [
    "# This is the only cell that should change\n",
    "IMAGE_PATH = \"/home/tom.osika/ultrasound_tbi/mtec2/MTECTraumaticBrainInjury/TraumaticBrainInjury/data/HRPO-E01240.1a/preprocessed/ONUS-001HV/butterfly-iq/left/49222c811ea4e6b7cf8c208c0f44a31be4bd20d1-0-burned_in.mha\""
   ]
  },
  {
   "cell_type": "code",
   "execution_count": null,
   "id": "5cf13460-a138-49cd-ad94-d136c4f9b3dd",
   "metadata": {},
   "outputs": [],
   "source": [
    "ANNOTATION_PATH = dm.get_filepaths(str(IMAGE_PATH))[\"annotation_label_image\"]\n",
    "\n",
    "im = itk.array_from_image(itk.imread(str(IMAGE_PATH)))\n",
    "ann = itk.array_from_image(itk.imread(str(ANNOTATION_PATH)))\n",
    "assert im.shape == ann.shape\n",
    "\n",
    "max_ = im.shape[0] - 1 if im.ndim == 3 else 0\n",
    "\n",
    "# Note: There is an arbitrary end at frame 300 here.\n",
    "def foo(im=None, ann=None, i=widgets.IntSlider(min=0, max=max_, step=1, value=0)):\n",
    "    if im.ndim == 2:\n",
    "        im_i = im\n",
    "        ann_i = ann\n",
    "    elif im.ndim == 3:\n",
    "        im_i = im[i, :, :]\n",
    "        ann_i = ann[i, :, :]\n",
    "    else:\n",
    "        raise RuntimeError(\"Only accept 2 or 3 dimensional images\")\n",
    "    _, axs = plt.subplots(2, 2, figsize=(10, 10))\n",
    "    axs[0, 0].imshow(im_i, cmap=\"gray\")\n",
    "    axs[0, 1].imshow(ann_i)\n",
    "    axs[1, 0].imshow(ann_i == 1)\n",
    "    axs[1, 1].imshow(ann_i == 2)\n",
    "    \n",
    "    axs[0, 0].title.set_text(\"Original Frame\")\n",
    "    axs[0, 1].title.set_text(\"Total Mask\")\n",
    "    axs[1, 0].title.set_text(\"Eye Mask\")\n",
    "    axs[1, 1].title.set_text(\"Nerve Mask\")\n",
    "    \n",
    "    plt.tight_layout()\n",
    "\n",
    "\n",
    "interact(foo, im=fixed(im), ann=fixed(ann));"
   ]
  },
  {
   "cell_type": "code",
   "execution_count": null,
   "id": "d07add03-9ba6-4275-85df-ab2369e3ad68",
   "metadata": {},
   "outputs": [],
   "source": []
  }
 ],
 "metadata": {
  "kernelspec": {
   "display_name": "tbi_env",
   "language": "python",
   "name": "tbi_env"
  },
  "language_info": {
   "codemirror_mode": {
    "name": "ipython",
    "version": 3
   },
   "file_extension": ".py",
   "mimetype": "text/x-python",
   "name": "python",
   "nbconvert_exporter": "python",
   "pygments_lexer": "ipython3",
   "version": "3.8.13"
  }
 },
 "nbformat": 4,
 "nbformat_minor": 5
}
