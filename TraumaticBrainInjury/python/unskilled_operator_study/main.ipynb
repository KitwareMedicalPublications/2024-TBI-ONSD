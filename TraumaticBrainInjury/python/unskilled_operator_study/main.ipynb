{
 "cells": [
  {
   "cell_type": "code",
   "execution_count": null,
   "id": "b7eac5fc-3a0a-41c1-9920-dcba15a20e56",
   "metadata": {},
   "outputs": [],
   "source": [
    "# Install dependencies\n",
    "%pip install statsmodels seaborn\n",
    "%pip install tqdm"
   ]
  },
  {
   "cell_type": "code",
   "execution_count": null,
   "id": "ac4b43c5-42d1-4571-bb73-3047954a640e",
   "metadata": {},
   "outputs": [],
   "source": [
    "import sys\n",
    "import pandas as pd\n",
    "import numpy as np\n",
    "import statsmodels.api as sm\n",
    "import matplotlib.pyplot as plt\n",
    "import seaborn\n",
    "\n",
    "from tbitk.ai.inference_result import *\n",
    "from pathlib import Path\n",
    "from tqdm import tqdm"
   ]
  },
  {
   "cell_type": "code",
   "execution_count": null,
   "id": "ecb036f4-6fb8-427c-892b-dbe4f80728e1",
   "metadata": {},
   "outputs": [],
   "source": [
    "# This is the only input that will need to be changed\n",
    "# Point this to the root directory of the model inference results.\n",
    "INF_RES_ROOT_PATH = Path(\"data/uos_inference_results_b807a3/\")"
   ]
  },
  {
   "cell_type": "code",
   "execution_count": null,
   "id": "08df4619-d456-4338-bb73-570acd6ba72c",
   "metadata": {},
   "outputs": [],
   "source": [
    "HEAD_KEY = {\"head_id\": [\"1\", \"2\", \"3\"], \"min_onsd\": [4.3, 5.3, 5.4], \"max_onsd\": [4.8, 5.6, 5.9]}\n",
    "HEAD_KEY = pd.DataFrame.from_dict(HEAD_KEY)\n",
    "HEAD_KEY_MEAN = HEAD_KEY[[\"head_id\"]].copy()\n",
    "HEAD_KEY_MEAN[\"head_onsd\"]  = (HEAD_KEY[\"min_onsd\"] + HEAD_KEY[\"max_onsd\"]) / 2\n",
    "print(HEAD_KEY_MEAN)"
   ]
  },
  {
   "cell_type": "code",
   "execution_count": null,
   "id": "0f3dbafc-5e82-4375-9ffd-50f43133683f",
   "metadata": {},
   "outputs": [],
   "source": [
    "PROBE_ABBREV_KEY = {\n",
    "    \"clarius-l7hd\": \"CL\",\n",
    "    \"butterfly-iq\": \"BF\",\n",
    "    \"interson-spl01\": \"IS\",\n",
    "    \"sonoque\": \"SNQ\",\n",
    "    \"sonosite\": \"SNS\"\n",
    "}\n",
    "\n",
    "MODEL_ABBREV_KEY = {\n",
    "    \"duke_study_general_small_8c8772\": \"general\",\n",
    "    \"duke_study_clarius_small_8c8772\": \"clarius\",\n",
    "    \"duke_study_butterfly_small_8c8772\": \"butterfly\"\n",
    "}\n",
    "\n",
    "def count_frames_with_preds(inference_result):\n",
    "    # Assumes 3d\n",
    "    mask = inference_result.mask\n",
    "    # mask is either a list of 2d itk images or\n",
    "    # a single 3d itk image\n",
    "    \n",
    "    if isinstance(mask, itk.Image):\n",
    "        mask = itk.array_from_image(mask)\n",
    "        \n",
    "    # Now, mask is either a list of 2d itk images\n",
    "    # or a 3d numpy array\n",
    "\n",
    "    num_frames_with_eye = 0\n",
    "    num_frames_with_nerve = 0\n",
    "    num_frames_with_both = 0\n",
    "    for frame in mask:\n",
    "        if isinstance(frame, itk.Image):\n",
    "            frame = itk.array_from_image(frame)\n",
    "\n",
    "        if 1 in frame:\n",
    "            num_frames_with_eye += 1\n",
    "        if 2 in frame:\n",
    "            num_frames_with_nerve += 1\n",
    "        if 1 in frame and 2 in frame:\n",
    "            num_frames_with_both += 1\n",
    "            \n",
    "    return num_frames_with_eye, num_frames_with_nerve, num_frames_with_both\n",
    "    \n",
    "\n",
    "def inf_res_to_df(result_paths):\n",
    "    # Build dataframe\n",
    "    df = pd.DataFrame(columns=(\n",
    "        \"probe\",\n",
    "        \"model_name\",\n",
    "        \"participant_id\",\n",
    "        \"head_id\",\n",
    "        \"model_onsd\",\n",
    "        \"n_frames_with_eye\",\n",
    "        \"n_frames_with_nerve\",\n",
    "        \"n_frames_with_both\",\n",
    "        \"frac_frames_with_eye\",\n",
    "        \"frac_frames_with_nerve\",\n",
    "        \"frac_frames_with_both\"\n",
    "    ))\n",
    "    for p in tqdm(list(result_paths)):\n",
    "        res = InferenceResult3D.load_from_dir(p)\n",
    "\n",
    "        # Now extract data from pathname\n",
    "        split_name = p.name.split(\"-\") # 2-1-3 -> [2, 1, 3]\n",
    "        participant_id = split_name[0]\n",
    "        head_id = split_name[1]\n",
    "        \n",
    "        # And the parent directories\n",
    "        probe = PROBE_ABBREV_KEY[p.parents[2].name]\n",
    "        model_name = MODEL_ABBREV_KEY[p.parents[1].name]\n",
    "\n",
    "        n_frames_with_eye, n_frames_with_nerve, n_frames_with_both = count_frames_with_preds(res)\n",
    "        n_frames = len(res)\n",
    "\n",
    "        frac_frames_with_eye = n_frames_with_eye / n_frames\n",
    "        frac_frames_with_nerve = n_frames_with_nerve / n_frames\n",
    "        frac_frames_with_both = n_frames_with_both / n_frames\n",
    "        df.loc[len(df)] = [\n",
    "            probe,\n",
    "            model_name,\n",
    "            participant_id,\n",
    "            head_id,\n",
    "            res.onsd,\n",
    "            n_frames_with_eye,\n",
    "            n_frames_with_nerve,\n",
    "            n_frames_with_both,\n",
    "            frac_frames_with_eye,\n",
    "            frac_frames_with_nerve,\n",
    "            frac_frames_with_both\n",
    "        ]\n",
    "\n",
    "    return df"
   ]
  },
  {
   "cell_type": "code",
   "execution_count": null,
   "id": "ed53c5da-49cb-4cad-8a81-996e7f9c7177",
   "metadata": {},
   "outputs": [],
   "source": [
    "model_preds_df = inf_res_to_df(INF_RES_ROOT_PATH.glob(\"**/*_inf_res\"))"
   ]
  },
  {
   "cell_type": "code",
   "execution_count": null,
   "id": "7f7ca7f0-79ea-4db8-b1d2-4e53ffa02680",
   "metadata": {},
   "outputs": [],
   "source": [
    "# Merge with head key and do some other type conversions\n",
    "model_preds_df.model_onsd = model_preds_df.model_onsd.astype(\"float64\")\n",
    "model_preds_df = model_preds_df.merge(HEAD_KEY_MEAN, on=\"head_id\")"
   ]
  },
  {
   "cell_type": "code",
   "execution_count": null,
   "id": "3f49312a-7a7e-4237-aa60-8ed991270f73",
   "metadata": {},
   "outputs": [],
   "source": [
    "# Set up error ranges\n",
    "model_preds_df[\"abs_error\"] = np.abs(model_preds_df[\"model_onsd\"] - model_preds_df[\"head_onsd\"])"
   ]
  },
  {
   "cell_type": "code",
   "execution_count": null,
   "id": "20ab4632-54e5-4465-b836-530cefb895be",
   "metadata": {},
   "outputs": [],
   "source": [
    "model_preds_df"
   ]
  },
  {
   "cell_type": "code",
   "execution_count": null,
   "id": "20159fd8-0aca-4e60-b041-74f724e1191d",
   "metadata": {},
   "outputs": [],
   "source": [
    "model_preds_df[\"modelXprobe\"] = model_preds_df[\"model_name\"] + \"X\" + model_preds_df[\"probe\"]\n",
    "ax = seaborn.stripplot(data=model_preds_df, x=\"head_id\", y=\"model_onsd\", hue=\"modelXprobe\", dodge=True)\n",
    "ax.figure.savefig(\"data/figures/model_onsd_per_head.jpeg\")"
   ]
  },
  {
   "cell_type": "code",
   "execution_count": null,
   "id": "5a3b399f-3fec-4a74-acc8-b01c6e9924d5",
   "metadata": {},
   "outputs": [],
   "source": [
    "ax = seaborn.stripplot(data=model_preds_df, x=\"head_id\", y=\"frac_frames_with_eye\", hue=\"modelXprobe\", dodge=True)\n",
    "ax.figure.savefig(\"data/figures/frac_frames_with_eye_per_head.jpeg\")"
   ]
  },
  {
   "cell_type": "code",
   "execution_count": null,
   "id": "c9a1801c-452a-4134-8a5f-a43e78afe3d6",
   "metadata": {},
   "outputs": [],
   "source": [
    "ax = seaborn.stripplot(data=model_preds_df, x=\"head_id\", y=\"frac_frames_with_nerve\", hue=\"modelXprobe\", dodge=True)\n",
    "ax.figure.savefig(\"data/figures/frac_frames_with_nerve_per_head.jpeg\")"
   ]
  },
  {
   "cell_type": "code",
   "execution_count": null,
   "id": "96ffc6d1-d07d-48c8-9c9b-ae1beb57e577",
   "metadata": {},
   "outputs": [],
   "source": [
    "ax = seaborn.stripplot(data=model_preds_df, x=\"participant_id\", y=\"model_onsd\", hue=\"modelXprobe\", dodge=True)\n",
    "ax.figure.savefig(\"data/figures/model_onsd_per_participant.jpeg\")"
   ]
  },
  {
   "cell_type": "code",
   "execution_count": null,
   "id": "16d3a8d4-4ef1-49e8-a7c5-1e314c262723",
   "metadata": {},
   "outputs": [],
   "source": [
    "ax = seaborn.stripplot(data=model_preds_df, x=\"participant_id\", y=\"abs_error\", hue=\"modelXprobe\", dodge=True)\n",
    "ax.figure.savefig(\"data/figures/abs_error_per_participant.jpeg\")"
   ]
  }
 ],
 "metadata": {
  "kernelspec": {
   "display_name": "tbi_env",
   "language": "python",
   "name": "tbi_env"
  },
  "language_info": {
   "codemirror_mode": {
    "name": "ipython",
    "version": 3
   },
   "file_extension": ".py",
   "mimetype": "text/x-python",
   "name": "python",
   "nbconvert_exporter": "python",
   "pygments_lexer": "ipython3",
   "version": "3.8.0"
  }
 },
 "nbformat": 4,
 "nbformat_minor": 5
}
